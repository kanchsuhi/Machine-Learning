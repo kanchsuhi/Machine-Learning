{
 "cells": [
  {
   "cell_type": "code",
   "execution_count": 35,
   "metadata": {},
   "outputs": [],
   "source": [
    "import pandas as pd\n",
    "from sklearn.naive_bayes import GaussianNB\n",
    "\n",
    "dfTrain = pd.read_csv(\"/Users/vamseemuppavarapu/Desktop/Python-MachineLearning-Cloud/Day-3-Machine-Learning/NaiveBayes/titanic-dataset/train.csv\")\n",
    "dfTest = pd.read_csv(\"/Users/vamseemuppavarapu/Desktop/Python-MachineLearning-Cloud/Day-3-Machine-Learning/NaiveBayes/titanic-dataset/test.csv\")\n",
    "\n",
    "\n",
    "dfTrain[\"CAge\"]=pd.cut(dfTrain[\"Age\"], bins = [0,10,18,40,max(dfTrain[\"Age\"])] ,labels=[\"Child\",\"MYoung\",\"Young\",\"Older\"])\n",
    "dfTest[\"CAge\"]=pd.cut(dfTest[\"Age\"], bins = [0,10,18,40,max(dfTest[\"Age\"])] ,labels=[\"Child\",\"MYoung\",\"Young\",\"Older\"])\n"
   ]
  },
  {
   "cell_type": "code",
   "execution_count": 36,
   "metadata": {},
   "outputs": [],
   "source": [
    "\"\"\"Make dummy variables for categorical data\"\"\"\n",
    "dfTrain= pd.get_dummies(data = dfTrain, dummy_na=True, prefix= [\"Pclass\",\"Sex\",\"Embarked\",\"Age\"] ,columns=[\"Pclass\",\"Sex\",\"Embarked\",\"CAge\"])\n",
    "dfTest= pd.get_dummies(data = dfTest, dummy_na=True, prefix= [\"Pclass\",\"Sex\",\"Embarked\",\"Age\"] ,columns=[\"Pclass\",\"Sex\",\"Embarked\",\"CAge\"])\n",
    "\n",
    "\"\"\"Store the train outcomes for survived\"\"\"\n",
    "Y_train=dfTrain[\"Survived\"]"
   ]
  },
  {
   "cell_type": "code",
   "execution_count": 37,
   "metadata": {},
   "outputs": [],
   "source": [
    "\"\"\"Store PassengerId\"\"\"\n",
    "submission=pd.DataFrame()\n",
    "submission[\"PassengerId\"]=dfTest[\"PassengerId\"]\n",
    "\n",
    "\"\"\"Ignore useless data\"\"\"\n",
    "dfTrain=dfTrain[dfTrain.columns.difference([\"Age\",\"Survived\",\"PassengerId\",\"Name\",\"Ticket\",\"Cabin\"])]\n",
    "dfTest=dfTest[dfTest.columns.difference([\"Age\",\"PassengerId\",\"Name\",\"Ticket\",\"Cabin\"])]\n",
    "\n",
    "\"\"\"handling a Nan value\"\"\"\n",
    "dfTest[\"Fare\"].iloc[dfTest[dfTest[\"Fare\"].isnull()].index] = dfTest[dfTest[\"Pclass_3.0\"]==1][\"Fare\"].median()"
   ]
  },
  {
   "cell_type": "code",
   "execution_count": 38,
   "metadata": {},
   "outputs": [
    {
     "data": {
      "text/plain": [
       "GaussianNB(priors=None)"
      ]
     },
     "execution_count": 38,
     "metadata": {},
     "output_type": "execute_result"
    }
   ],
   "source": [
    "\"\"\"Fit Model\"\"\"\n",
    "model = GaussianNB()\n",
    "model.fit(dfTrain,Y_train)"
   ]
  },
  {
   "cell_type": "code",
   "execution_count": 39,
   "metadata": {},
   "outputs": [
    {
     "name": "stdout",
     "output_type": "stream",
     "text": [
      "     PassengerId  Survived\n",
      "0            892         0\n",
      "1            893         0\n",
      "2            894         0\n",
      "3            895         0\n",
      "4            896         0\n",
      "5            897         0\n",
      "6            898         0\n",
      "7            899         0\n",
      "8            900         1\n",
      "9            901         0\n",
      "10           902         0\n",
      "11           903         0\n",
      "12           904         1\n",
      "13           905         0\n",
      "14           906         1\n",
      "15           907         1\n",
      "16           908         0\n",
      "17           909         0\n",
      "18           910         0\n",
      "19           911         1\n",
      "20           912         0\n",
      "21           913         0\n",
      "22           914         1\n",
      "23           915         0\n",
      "24           916         1\n",
      "25           917         0\n",
      "26           918         1\n",
      "27           919         0\n",
      "28           920         0\n",
      "29           921         0\n",
      "..           ...       ...\n",
      "388         1280         0\n",
      "389         1281         0\n",
      "390         1282         0\n",
      "391         1283         1\n",
      "392         1284         0\n",
      "393         1285         0\n",
      "394         1286         0\n",
      "395         1287         1\n",
      "396         1288         0\n",
      "397         1289         1\n",
      "398         1290         0\n",
      "399         1291         0\n",
      "400         1292         1\n",
      "401         1293         0\n",
      "402         1294         1\n",
      "403         1295         0\n",
      "404         1296         0\n",
      "405         1297         0\n",
      "406         1298         0\n",
      "407         1299         1\n",
      "408         1300         0\n",
      "409         1301         1\n",
      "410         1302         0\n",
      "411         1303         1\n",
      "412         1304         0\n",
      "413         1305         0\n",
      "414         1306         1\n",
      "415         1307         0\n",
      "416         1308         0\n",
      "417         1309         0\n",
      "\n",
      "[418 rows x 2 columns]\n"
     ]
    }
   ],
   "source": [
    "pred = pd.DataFrame(model.predict(dfTest),columns=[\"Survived\"])\n",
    "submission=submission.join(pred)\n",
    "print(submission)"
   ]
  },
  {
   "cell_type": "code",
   "execution_count": null,
   "metadata": {},
   "outputs": [],
   "source": []
  }
 ],
 "metadata": {
  "kernelspec": {
   "display_name": "Python 3",
   "language": "python",
   "name": "python3"
  },
  "language_info": {
   "codemirror_mode": {
    "name": "ipython",
    "version": 3
   },
   "file_extension": ".py",
   "mimetype": "text/x-python",
   "name": "python",
   "nbconvert_exporter": "python",
   "pygments_lexer": "ipython3",
   "version": "3.6.4"
  }
 },
 "nbformat": 4,
 "nbformat_minor": 2
}
